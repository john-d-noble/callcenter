{
  "nbformat": 4,
  "nbformat_minor": 0,
  "metadata": {
    "colab": {
      "provenance": [],
      "authorship_tag": "ABX9TyOSjJyGizN89/g5IN8JdKOc",
      "include_colab_link": true
    },
    "kernelspec": {
      "name": "python3",
      "display_name": "Python 3"
    },
    "language_info": {
      "name": "python"
    }
  },
  "cells": [
    {
      "cell_type": "markdown",
      "metadata": {
        "id": "view-in-github",
        "colab_type": "text"
      },
      "source": [
        "<a href=\"https://colab.research.google.com/github/john-d-noble/callcenter/blob/main/Daily_Forecast_JSON_File_Parameters.ipynb\" target=\"_parent\"><img src=\"https://colab.research.google.com/assets/colab-badge.svg\" alt=\"Open In Colab\"/></a>"
      ]
    },
    {
      "cell_type": "code",
      "execution_count": 1,
      "metadata": {
        "colab": {
          "base_uri": "https://localhost:8080/"
        },
        "id": "5m6uGek266Ms",
        "outputId": "5c179b1c-04dc-4715-f353-e5a42c72f319"
      },
      "outputs": [
        {
          "output_type": "stream",
          "name": "stdout",
          "text": [
            "🚀 Loading the final model to make a new prediction...\n",
            "--- Fetching latest market data for 2025-08-23 ---\n"
          ]
        },
        {
          "output_type": "stream",
          "name": "stderr",
          "text": [
            "/tmp/ipython-input-3502916663.py:19: FutureWarning: YF.download() has changed argument auto_adjust default to True\n",
            "  latest_data = yf.download(TICKERS, start=yesterday, period='1d')\n",
            "[*********************100%***********************]  4 of 4 completed\n"
          ]
        },
        {
          "output_type": "stream",
          "name": "stdout",
          "text": [
            "\n",
            "--- Prediction Complete ---\n",
            "✅ Based on the latest market data, the model forecasts a call volume of: 395,468\n"
          ]
        }
      ],
      "source": [
        "import pandas as pd\n",
        "import xgboost as xgb\n",
        "import yfinance as yf\n",
        "from datetime import date, timedelta\n",
        "\n",
        "# --- Configuration ---\n",
        "SAVED_MODEL_FILE = 'final_xgboost_model.json'\n",
        "TICKERS = ['BTC-USD', 'ETH-USD', 'SOL-USD', '^VIX']\n",
        "\n",
        "print(\"🚀 Loading the final model to make a new prediction...\")\n",
        "\n",
        "try:\n",
        "    # 1. Get Fresh Market Data for the Prediction\n",
        "    # In a real scenario, you'd get today's closing data to predict tomorrow.\n",
        "    # We will get yesterday's data as a stand-in for the \"latest\" data.\n",
        "    yesterday = date.today() - timedelta(days=1)\n",
        "\n",
        "    print(f\"--- Fetching latest market data for {yesterday.strftime('%Y-%m-%d')} ---\")\n",
        "    latest_data = yf.download(TICKERS, start=yesterday, period='1d')\n",
        "\n",
        "    # 2. Prepare the Data for the Model\n",
        "    # The model needs the data in the exact same format it was trained on.\n",
        "    prices = latest_data['Close'].rename(columns={\n",
        "        'BTC-USD': 'btc_price', 'ETH-USD': 'eth_price',\n",
        "        'SOL-USD': 'sol_price', '^VIX': 'vix_price'})\n",
        "\n",
        "    volumes = latest_data['Volume'].rename(columns={\n",
        "        'BTC-USD': 'btc_volume', 'ETH-USD': 'eth_volume',\n",
        "        'SOL-USD': 'sol_volume', '^VIX': 'vix_volume'})\n",
        "\n",
        "    # Combine into a single row of data\n",
        "    prediction_input = pd.concat([prices, volumes], axis=1)\n",
        "\n",
        "    # Ensure the column order is identical to the training data\n",
        "    training_columns = ['btc_price', 'eth_price', 'sol_price', 'vix_price',\n",
        "                        'btc_volume', 'eth_volume', 'sol_volume', 'vix_volume']\n",
        "    prediction_input = prediction_input[training_columns]\n",
        "\n",
        "\n",
        "    # 3. Load the Saved Model and Make a Prediction\n",
        "    final_model = xgb.XGBRegressor()\n",
        "    final_model.load_model(SAVED_MODEL_FILE)\n",
        "\n",
        "    prediction = final_model.predict(prediction_input)\n",
        "    predicted_volume = int(prediction[0])\n",
        "\n",
        "    print(\"\\n--- Prediction Complete ---\")\n",
        "    print(f\"✅ Based on the latest market data, the model forecasts a call volume of: {predicted_volume:,}\")\n",
        "\n",
        "\n",
        "except Exception as e:\n",
        "    print(f\"❌ An error occurred: {e}\")"
      ]
    }
  ]
}