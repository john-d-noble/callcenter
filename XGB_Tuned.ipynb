{
  "nbformat": 4,
  "nbformat_minor": 0,
  "metadata": {
    "colab": {
      "provenance": [],
      "authorship_tag": "ABX9TyNBA1n73ALWpxQNJwArBhnU",
      "include_colab_link": true
    },
    "kernelspec": {
      "name": "python3",
      "display_name": "Python 3"
    },
    "language_info": {
      "name": "python"
    }
  },
  "cells": [
    {
      "cell_type": "markdown",
      "metadata": {
        "id": "view-in-github",
        "colab_type": "text"
      },
      "source": [
        "<a href=\"https://colab.research.google.com/github/john-d-noble/callcenter/blob/main/XGB_Tuned.ipynb\" target=\"_parent\"><img src=\"https://colab.research.google.com/assets/colab-badge.svg\" alt=\"Open In Colab\"/></a>"
      ]
    },
    {
      "cell_type": "code",
      "execution_count": null,
      "metadata": {
        "id": "JIB5Yv-A3sne"
      },
      "outputs": [],
      "source": [
        "import pandas as pd\n",
        "import xgboost as xgb\n",
        "from sklearn.model_selection import RandomizedSearchCV, TimeSeriesSplit\n",
        "from sklearn.metrics import mean_absolute_error\n",
        "import numpy as np\n",
        "\n",
        "# --- Configuration ---\n",
        "DATA_FILE = 'fully_enriched_training_data.csv'\n",
        "\n",
        "print(\"🚀 Starting the model tuning process...\")\n",
        "print(\"This may take several minutes depending on your computer's power.\")\n",
        "\n",
        "try:\n",
        "    # 1. Load and Prepare Data\n",
        "    df = pd.read_csv(DATA_FILE, parse_dates=['Date'])\n",
        "    df.set_index('Date', inplace=True)\n",
        "    df.fillna(0, inplace=True) # Fill any remaining NaNs\n",
        "\n",
        "    # Define features (X) and target (y)\n",
        "    X = df.drop('adjusted_call_volume', axis=1)\n",
        "    y = df['adjusted_call_volume']\n",
        "\n",
        "    # 2. Define the Hyperparameter Grid to Search\n",
        "    # These are the \"knobs\" we are tuning\n",
        "    param_grid = {\n",
        "        'n_estimators': [100, 200, 300, 500, 700],\n",
        "        'max_depth': [3, 4, 5, 6, 7],\n",
        "        'learning_rate': [0.01, 0.05, 0.1, 0.2],\n",
        "        'subsample': [0.7, 0.8, 0.9, 1.0],\n",
        "        'colsample_bytree': [0.7, 0.8, 0.9, 1.0]\n",
        "    }\n",
        "\n",
        "    # 3. Set up the XGBoost Model and the Search\n",
        "    xgb_model = xgb.XGBRegressor(objective='reg:squarederror', eval_metric='mae')\n",
        "\n",
        "    # Use a time-series-aware cross-validation\n",
        "    tscv = TimeSeriesSplit(n_splits=5)\n",
        "\n",
        "    # RandomizedSearchCV will test 50 different combinations from the grid\n",
        "    random_search = RandomizedSearchCV(\n",
        "        estimator=xgb_model,\n",
        "        param_distributions=param_grid,\n",
        "        n_iter=50,  # Number of combinations to try\n",
        "        scoring='neg_mean_absolute_error',\n",
        "        cv=tscv,\n",
        "        n_jobs=-1,  # Use all available CPU cores\n",
        "        verbose=1,\n",
        "        random_state=42\n",
        "    )\n",
        "\n",
        "    # 4. Run the Automated Tuning\n",
        "    print(\"\\n--- Searching for the best hyperparameters ---\")\n",
        "    random_search.fit(X, y)\n",
        "\n",
        "    # 5. Report the Results\n",
        "    print(\"\\n--- Tuning Complete ---\")\n",
        "    print(f\"✅ Best MAE Score found: {-random_search.best_score_:.2f}\")\n",
        "    print(\"✅ Best Hyperparameters found:\")\n",
        "    print(random_search.best_params_)\n",
        "\n",
        "except FileNotFoundError:\n",
        "    print(f\"❌ Error: The file '{DATA_FILE}' was not found.\")\n",
        "except Exception as e:\n",
        "    print(f\"❌ An error occurred: {e}\")"
      ]
    }
  ]
}