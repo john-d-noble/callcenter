{
  "nbformat": 4,
  "nbformat_minor": 0,
  "metadata": {
    "colab": {
      "provenance": [],
      "gpuType": "V28",
      "authorship_tag": "ABX9TyN5ZgGVvdgpRlTJPKI1c3XE",
      "include_colab_link": true
    },
    "kernelspec": {
      "name": "python3",
      "display_name": "Python 3"
    },
    "language_info": {
      "name": "python"
    },
    "accelerator": "TPU"
  },
  "cells": [
    {
      "cell_type": "markdown",
      "metadata": {
        "id": "view-in-github",
        "colab_type": "text"
      },
      "source": [
        "<a href=\"https://colab.research.google.com/github/john-d-noble/callcenter/blob/main/XGB_High_Performance_Model_Final.ipynb\" target=\"_parent\"><img src=\"https://colab.research.google.com/assets/colab-badge.svg\" alt=\"Open In Colab\"/></a>"
      ]
    },
    {
      "cell_type": "code",
      "metadata": {
        "colab": {
          "base_uri": "https://localhost:8080/"
        },
        "id": "2e416e01",
        "outputId": "e022e357-48d1-4a28-e32b-dfa430bb431e"
      },
      "source": [
        "!pip install yfinance"
      ],
      "execution_count": 4,
      "outputs": [
        {
          "output_type": "stream",
          "name": "stdout",
          "text": [
            "Requirement already satisfied: yfinance in /usr/local/lib/python3.12/dist-packages (0.2.65)\n",
            "Requirement already satisfied: pandas>=1.3.0 in /usr/local/lib/python3.12/dist-packages (from yfinance) (2.2.2)\n",
            "Requirement already satisfied: numpy>=1.16.5 in /usr/local/lib/python3.12/dist-packages (from yfinance) (2.0.2)\n",
            "Requirement already satisfied: requests>=2.31 in /usr/local/lib/python3.12/dist-packages (from yfinance) (2.32.4)\n",
            "Requirement already satisfied: multitasking>=0.0.7 in /usr/local/lib/python3.12/dist-packages (from yfinance) (0.0.12)\n",
            "Requirement already satisfied: platformdirs>=2.0.0 in /usr/local/lib/python3.12/dist-packages (from yfinance) (4.3.8)\n",
            "Requirement already satisfied: pytz>=2022.5 in /usr/local/lib/python3.12/dist-packages (from yfinance) (2025.2)\n",
            "Requirement already satisfied: frozendict>=2.3.4 in /usr/local/lib/python3.12/dist-packages (from yfinance) (2.4.6)\n",
            "Requirement already satisfied: peewee>=3.16.2 in /usr/local/lib/python3.12/dist-packages (from yfinance) (3.18.2)\n",
            "Requirement already satisfied: beautifulsoup4>=4.11.1 in /usr/local/lib/python3.12/dist-packages (from yfinance) (4.13.4)\n",
            "Requirement already satisfied: curl_cffi>=0.7 in /usr/local/lib/python3.12/dist-packages (from yfinance) (0.13.0)\n",
            "Requirement already satisfied: protobuf>=3.19.0 in /usr/local/lib/python3.12/dist-packages (from yfinance) (6.32.0)\n",
            "Requirement already satisfied: websockets>=13.0 in /usr/local/lib/python3.12/dist-packages (from yfinance) (15.0.1)\n",
            "Requirement already satisfied: soupsieve>1.2 in /usr/local/lib/python3.12/dist-packages (from beautifulsoup4>=4.11.1->yfinance) (2.7)\n",
            "Requirement already satisfied: typing-extensions>=4.0.0 in /usr/local/lib/python3.12/dist-packages (from beautifulsoup4>=4.11.1->yfinance) (4.14.1)\n",
            "Requirement already satisfied: cffi>=1.12.0 in /usr/local/lib/python3.12/dist-packages (from curl_cffi>=0.7->yfinance) (1.17.1)\n",
            "Requirement already satisfied: certifi>=2024.2.2 in /usr/local/lib/python3.12/dist-packages (from curl_cffi>=0.7->yfinance) (2025.8.3)\n",
            "Requirement already satisfied: python-dateutil>=2.8.2 in /usr/local/lib/python3.12/dist-packages (from pandas>=1.3.0->yfinance) (2.9.0.post0)\n",
            "Requirement already satisfied: tzdata>=2022.7 in /usr/local/lib/python3.12/dist-packages (from pandas>=1.3.0->yfinance) (2025.2)\n",
            "Requirement already satisfied: charset_normalizer<4,>=2 in /usr/local/lib/python3.12/dist-packages (from requests>=2.31->yfinance) (3.4.3)\n",
            "Requirement already satisfied: idna<4,>=2.5 in /usr/local/lib/python3.12/dist-packages (from requests>=2.31->yfinance) (3.10)\n",
            "Requirement already satisfied: urllib3<3,>=1.21.1 in /usr/local/lib/python3.12/dist-packages (from requests>=2.31->yfinance) (2.5.0)\n",
            "Requirement already satisfied: pycparser in /usr/local/lib/python3.12/dist-packages (from cffi>=1.12.0->curl_cffi>=0.7->yfinance) (2.22)\n",
            "Requirement already satisfied: six>=1.5 in /usr/local/lib/python3.12/dist-packages (from python-dateutil>=2.8.2->pandas>=1.3.0->yfinance) (1.17.0)\n"
          ]
        }
      ]
    },
    {
      "cell_type": "code",
      "source": [
        "!pip install xgboost"
      ],
      "metadata": {
        "colab": {
          "base_uri": "https://localhost:8080/"
        },
        "id": "0Y399xda3fCS",
        "outputId": "829639fd-804d-49fd-a534-b4f3b2aefd35"
      },
      "execution_count": 5,
      "outputs": [
        {
          "output_type": "stream",
          "name": "stdout",
          "text": [
            "Collecting xgboost\n",
            "  Downloading xgboost-3.0.4-py3-none-manylinux_2_28_x86_64.whl.metadata (2.1 kB)\n",
            "Requirement already satisfied: numpy in /usr/local/lib/python3.12/dist-packages (from xgboost) (2.0.2)\n",
            "Collecting nvidia-nccl-cu12 (from xgboost)\n",
            "  Downloading nvidia_nccl_cu12-2.27.7-py3-none-manylinux2014_x86_64.manylinux_2_17_x86_64.whl.metadata (2.0 kB)\n",
            "Requirement already satisfied: scipy in /usr/local/lib/python3.12/dist-packages (from xgboost) (1.16.1)\n",
            "Downloading xgboost-3.0.4-py3-none-manylinux_2_28_x86_64.whl (94.9 MB)\n",
            "\u001b[2K   \u001b[90m━━━━━━━━━━━━━━━━━━━━━━━━━━━━━━━━━━━━━━━━\u001b[0m \u001b[32m94.9/94.9 MB\u001b[0m \u001b[31m12.5 MB/s\u001b[0m eta \u001b[36m0:00:00\u001b[0m\n",
            "\u001b[?25hDownloading nvidia_nccl_cu12-2.27.7-py3-none-manylinux2014_x86_64.manylinux_2_17_x86_64.whl (322.5 MB)\n",
            "\u001b[2K   \u001b[90m━━━━━━━━━━━━━━━━━━━━━━━━━━━━━━━━━━━━━━━━\u001b[0m \u001b[32m322.5/322.5 MB\u001b[0m \u001b[31m3.3 MB/s\u001b[0m eta \u001b[36m0:00:00\u001b[0m\n",
            "\u001b[?25hInstalling collected packages: nvidia-nccl-cu12, xgboost\n",
            "Successfully installed nvidia-nccl-cu12-2.27.7 xgboost-3.0.4\n"
          ]
        }
      ]
    },
    {
      "cell_type": "code",
      "source": [
        "#\n",
        "# MASTER SCRIPT: From Data Collection to Live Forecasting\n",
        "# This script combines all steps into a single, sequential process.\n",
        "#\n",
        "\n",
        "import pandas as pd\n",
        "import numpy as np\n",
        "import yfinance as yf\n",
        "import xgboost as xgb\n",
        "from sklearn.model_selection import RandomizedSearchCV, TimeSeriesSplit\n",
        "from datetime import date, timedelta\n",
        "\n",
        "# --- MASTER CONFIGURATION ---\n",
        "# Data Collection & Simulation\n",
        "TICKERS = ['BTC-USD', 'ETH-USD', 'SOL-USD', '^VIX']\n",
        "START_DATE = '2022-06-25'\n",
        "\n",
        "# Feature Engineering\n",
        "VOLATILITY_WINDOW = 14\n",
        "SPIKE_WINDOW = 30\n",
        "SPIKE_THRESHOLD = 2.0\n",
        "\n",
        "# Model Tuning\n",
        "TUNING_ITERATIONS = 50 # Number of hyperparameter combinations to test\n",
        "\n",
        "# Final Output Files\n",
        "MARKET_DATA_FILE = 'crypto_price_and_volume_data_complete.csv'\n",
        "SIMULATED_CALLS_FILE = 'final_simulated_data_with_volatility.csv'\n",
        "ADVANCED_TRAINING_FILE = 'advanced_feature_training_data.csv'\n",
        "FINAL_MODEL_FILENAME = 'final_advanced_xgboost_model.json'\n",
        "\n",
        "\n",
        "# ==============================================================================\n",
        "# STEP 1: DATA COLLECTION - Fetch all required price and volume data\n",
        "# ==============================================================================\n",
        "print(\"--- [STEP 1/7] Starting: Data Collection ---\")\n",
        "try:\n",
        "    data = yf.download(TICKERS, start=START_DATE)\n",
        "    prices = data['Close'].rename(columns={'BTC-USD': 'btc_price', 'ETH-USD': 'eth_price', 'SOL-USD': 'sol_price', '^VIX': 'vix_price'})\n",
        "    volumes = data['Volume'].rename(columns={'BTC-USD': 'btc_volume', 'ETH-USD': 'eth_volume', 'SOL-USD': 'sol_volume', '^VIX': 'vix_volume'})\n",
        "    market_data_df = pd.concat([prices, volumes], axis=1)\n",
        "    market_data_df.to_csv(MARKET_DATA_FILE)\n",
        "    print(f\"✅ Success! Market data saved to '{MARKET_DATA_FILE}'\\n\")\n",
        "except Exception as e:\n",
        "    print(f\"❌ FAILED: {e}\")\n",
        "    exit()\n",
        "\n",
        "# ==============================================================================\n",
        "# STEP 2: SIMULATION - Create the intelligent, volatility-driven call volume\n",
        "# ==============================================================================\n",
        "print(f\"--- [STEP 2/7] Starting: Call Volume Simulation ---\")\n",
        "try:\n",
        "    df_sim = pd.read_csv(MARKET_DATA_FILE, parse_dates=['Date'])\n",
        "\n",
        "    # Baseline simulation parameters\n",
        "    NUMBER_OF_AGENTS = 3000\n",
        "    AVG_WEEKDAY_CALLS_PER_AGENT = 110\n",
        "    AVG_WEEKEND_CALLS_PER_AGENT = 50\n",
        "    RANDOMNESS_FACTOR = 15000\n",
        "\n",
        "    def simulate_base_volume(d):\n",
        "        mean_vol = NUMBER_OF_AGENTS * (AVG_WEEKDAY_CALLS_PER_AGENT if d.dayofweek < 5 else AVG_WEEKEND_CALLS_PER_AGENT)\n",
        "        return abs(int(np.random.normal(loc=mean_vol, scale=RANDOMNESS_FACTOR)))\n",
        "    df_sim['base_call_volume'] = df_sim['Date'].apply(simulate_base_volume)\n",
        "\n",
        "    # Volatility adjustment parameters\n",
        "    VOLATILITY_THRESHOLD = 0.05\n",
        "    VOLATILITY_MULTIPLIER = 1.8\n",
        "    VIX_FEAR_THRESHOLD = 30\n",
        "    VIX_MULTIPLIER = 1.4\n",
        "\n",
        "    for crypto in ['btc', 'eth', 'sol']:\n",
        "        df_sim[f'{crypto}_price_pct_change'] = df_sim[f'{crypto}_price'].pct_change()\n",
        "\n",
        "    def adjust_volume_for_volatility(row):\n",
        "        final_volume = row['base_call_volume']\n",
        "        crypto_volatile = any(abs(row[f'{c}_price_pct_change']) > VOLATILITY_THRESHOLD for c in ['btc', 'eth', 'sol'])\n",
        "        vix_high = row['vix_price'] > VIX_FEAR_THRESHOLD\n",
        "        if crypto_volatile: final_volume *= VOLATILITY_MULTIPLIER\n",
        "        if vix_high: final_volume *= VIX_MULTIPLIER\n",
        "        return int(final_volume)\n",
        "\n",
        "    df_sim.fillna(0, inplace=True)\n",
        "    df_sim['adjusted_call_volume'] = df_sim.apply(adjust_volume_for_volatility, axis=1)\n",
        "\n",
        "    # Save the intermediate simulation file\n",
        "    simulated_df = df_sim[['Date', 'btc_price', 'eth_price', 'sol_price', 'vix_price', 'adjusted_call_volume']]\n",
        "    simulated_df.to_csv(SIMULATED_CALLS_FILE, index=False)\n",
        "    print(f\"✅ Success! Simulated call volume data saved to '{SIMULATED_CALLS_FILE}'\\n\")\n",
        "except Exception as e:\n",
        "    print(f\"❌ FAILED: {e}\")\n",
        "    exit()\n",
        "\n",
        "# ==============================================================================\n",
        "# STEP 3: ADVANCED FEATURE ENGINEERING - Create the final training data\n",
        "# ==============================================================================\n",
        "print(f\"--- [STEP 3/7] Starting: Advanced Feature Engineering ---\")\n",
        "try:\n",
        "    df_market = pd.read_csv(MARKET_DATA_FILE, parse_dates=['Date'])\n",
        "    df_calls = pd.read_csv(SIMULATED_CALLS_FILE, parse_dates=['Date'])\n",
        "\n",
        "    for crypto in ['btc', 'eth', 'sol']:\n",
        "        df_market[f'{crypto}_price_pct_change'] = df_market[f'{crypto}_price'].pct_change()\n",
        "        df_market[f'{crypto}_volatility_index'] = df_market[f'{crypto}_price_pct_change'].rolling(window=VOLATILITY_WINDOW).std()\n",
        "\n",
        "        rolling_vol_mean = df_market[f'{crypto}_volume'].rolling(window=SPIKE_WINDOW).mean()\n",
        "        rolling_vol_std = df_market[f'{crypto}_volume'].rolling(window=SPIKE_WINDOW).std()\n",
        "        df_market[f'{crypto}_volume_spike'] = (df_market[f'{crypto}_volume'] > (rolling_vol_mean + SPIKE_THRESHOLD * rolling_vol_std)).astype(int)\n",
        "\n",
        "        rolling_price_mean = df_market[f'{crypto}_price_pct_change'].rolling(window=SPIKE_WINDOW).mean()\n",
        "        rolling_price_std = df_market[f'{crypto}_price_pct_change'].rolling(window=SPIKE_WINDOW).std()\n",
        "        df_market[f'{crypto}_price_shock'] = (abs(df_market[f'{crypto}_price_pct_change']) > (rolling_price_mean + SPIKE_THRESHOLD * rolling_price_std)).astype(int)\n",
        "\n",
        "    df_calls_subset = df_calls[['Date', 'adjusted_call_volume']]\n",
        "    combined_df = pd.merge(df_market, df_calls_subset, on='Date', how='inner')\n",
        "    combined_df.drop(columns=[col for col in combined_df.columns if 'pct_change' in col], inplace=True)\n",
        "    combined_df.fillna(0, inplace=True)\n",
        "    combined_df.to_csv(ADVANCED_TRAINING_FILE, index=False)\n",
        "    print(f\"✅ Success! Advanced training file saved as '{ADVANCED_TRAINING_FILE}'\\n\")\n",
        "except Exception as e:\n",
        "    print(f\"❌ FAILED: {e}\")\n",
        "    exit()\n",
        "\n",
        "# ==============================================================================\n",
        "# STEP 4: MODEL TUNING - Find the best hyperparameters\n",
        "# ==============================================================================\n",
        "print(f\"--- [STEP 4/7] Starting: Automated Model Tuning (this may take several minutes) ---\")\n",
        "try:\n",
        "    df_tune = pd.read_csv(ADVANCED_TRAINING_FILE, parse_dates=['Date'])\n",
        "    df_tune.set_index('Date', inplace=True)\n",
        "    df_tune.fillna(0, inplace=True)\n",
        "    X = df_tune.drop('adjusted_call_volume', axis=1)\n",
        "    y = df_tune['adjusted_call_volume']\n",
        "\n",
        "    param_grid = {\n",
        "        'n_estimators': [100, 300, 500, 700], 'max_depth': [3, 4, 5, 6, 7],\n",
        "        'learning_rate': [0.01, 0.05, 0.1], 'subsample': [0.7, 0.8, 0.9, 1.0],\n",
        "        'colsample_bytree': [0.7, 0.8, 0.9, 1.0]\n",
        "    }\n",
        "    xgb_model = xgb.XGBRegressor(objective='reg:squarederror', eval_metric='mae')\n",
        "    tscv = TimeSeriesSplit(n_splits=5)\n",
        "    random_search = RandomizedSearchCV(estimator=xgb_model, param_distributions=param_grid, n_iter=TUNING_ITERATIONS,\n",
        "                                   scoring='neg_mean_absolute_error', cv=tscv, n_jobs=-1, verbose=1, random_state=42)\n",
        "    random_search.fit(X, y)\n",
        "\n",
        "    best_params = random_search.best_params_\n",
        "    best_score = -random_search.best_score_\n",
        "\n",
        "    print(\"\\n--- Tuning Complete ---\")\n",
        "    print(f\"✅ Best MAE Score found: {best_score:.2f}\")\n",
        "    print(f\"✅ Best Hyperparameters found: {best_params}\\n\")\n",
        "except Exception as e:\n",
        "    print(f\"❌ FAILED: {e}\")\n",
        "    exit()\n",
        "\n",
        "# ==============================================================================\n",
        "# STEP 5: FINAL MODEL TRAINING - Build the model with the best settings\n",
        "# ==============================================================================\n",
        "print(f\"--- [STEP 5/7] Starting: Final Model Training ---\")\n",
        "try:\n",
        "    final_model = xgb.XGBRegressor(\n",
        "        objective='reg:squarederror',\n",
        "        eval_metric='mae',\n",
        "        **best_params,  # Use the best parameters found in the search\n",
        "        random_state=42\n",
        "    )\n",
        "    final_model.fit(X, y)\n",
        "    print(\"✅ Success! Final model trained on all available data.\\n\")\n",
        "except Exception as e:\n",
        "    print(f\"❌ FAILED: {e}\")\n",
        "    exit()\n",
        "\n",
        "# ==============================================================================\n",
        "# STEP 6: SAVE THE MODEL - Create the final, predictive asset\n",
        "# ==============================================================================\n",
        "print(f\"--- [STEP 6/7] Starting: Saving the Final Model ---\")\n",
        "try:\n",
        "    final_model.save_model(FINAL_MODEL_FILENAME)\n",
        "    print(f\"✅ Success! Final model has been saved as '{FINAL_MODEL_FILENAME}'.\\n\")\n",
        "except Exception as e:\n",
        "    print(f\"❌ FAILED: {e}\")\n",
        "    exit()\n",
        "\n",
        "# ==============================================================================\n",
        "# STEP 7: MAKE A PREDICTION - Use the model for a live forecast\n",
        "# ==============================================================================\n",
        "print(f\"--- [STEP 7/7] Starting: Making a Live Forecast ---\")\n",
        "try:\n",
        "    latest_day = date.today() - timedelta(days=1)\n",
        "    hist_data = yf.download(TICKERS, period='35d', progress=False)\n",
        "    latest_data = yf.download(TICKERS, start=latest_day, period='1d', progress=False)\n",
        "\n",
        "    full_data = pd.concat([hist_data, latest_data])\n",
        "    prices = full_data['Close'].rename(columns={'BTC-USD': 'btc_price', 'ETH-USD': 'eth_price', 'SOL-USD': 'sol_price', '^VIX': 'vix_price'})\n",
        "    volumes = full_data['Volume'].rename(columns={'BTC-USD': 'btc_volume', 'ETH-USD': 'eth_volume', 'SOL-USD': 'sol_volume', '^VIX': 'vix_volume'})\n",
        "    market_df = pd.concat([prices, volumes], axis=1)\n",
        "\n",
        "    # Re-create the exact same features we trained on\n",
        "    for crypto in ['btc', 'eth', 'sol']:\n",
        "        market_df[f'{crypto}_price_pct_change'] = market_df[f'{crypto}_price'].pct_change()\n",
        "        market_df[f'{crypto}_volatility_index'] = market_df[f'{crypto}_price_pct_change'].rolling(window=VOLATILITY_WINDOW).std()\n",
        "        rolling_vol_mean = market_df[f'{crypto}_volume'].rolling(window=SPIKE_WINDOW).mean()\n",
        "        rolling_vol_std = market_df[f'{crypto}_volume'].rolling(window=SPIKE_WINDOW).std()\n",
        "        market_df[f'{crypto}_volume_spike'] = (market_df[f'{crypto}_volume'] > (rolling_vol_mean + SPIKE_THRESHOLD * rolling_vol_std)).astype(int)\n",
        "        rolling_price_mean = market_df[f'{crypto}_price_pct_change'].rolling(window=SPIKE_WINDOW).mean()\n",
        "        rolling_price_std = market_df[f'{crypto}_price_pct_change'].rolling(window=SPIKE_WINDOW).std()\n",
        "        market_df[f'{crypto}_price_shock'] = (abs(market_df[f'{crypto}_price_pct_change']) > (rolling_price_mean + SPIKE_THRESHOLD * rolling_price_std)).astype(int)\n",
        "\n",
        "    prediction_input = market_df.tail(1)\n",
        "    training_columns = [col for col in X.columns] # Ensure exact column order\n",
        "    prediction_input = prediction_input[training_columns]\n",
        "\n",
        "    # Load the model we just saved\n",
        "    loaded_model = xgb.XGBRegressor()\n",
        "    loaded_model.load_model(FINAL_MODEL_FILENAME)\n",
        "\n",
        "    prediction = loaded_model.predict(prediction_input)\n",
        "    predicted_volume = int(prediction[0])\n",
        "\n",
        "    print(\"\\n--- Forecast Complete ---\")\n",
        "    print(f\"✅ Based on the latest market data for {latest_day.strftime('%Y-%m-%d')}, the model forecasts a call volume of: {predicted_volume:,}\")\n",
        "except Exception as e:\n",
        "    print(f\"❌ FAILED: {e}\")"
      ],
      "metadata": {
        "colab": {
          "base_uri": "https://localhost:8080/"
        },
        "id": "HWbDfGy52X1V",
        "outputId": "9831994d-73ec-4d03-ff00-05f540c96434"
      },
      "execution_count": 6,
      "outputs": [
        {
          "output_type": "stream",
          "name": "stdout",
          "text": [
            "--- [STEP 1/7] Starting: Data Collection ---\n"
          ]
        },
        {
          "output_type": "stream",
          "name": "stderr",
          "text": [
            "/tmp/ipython-input-3488176207.py:38: FutureWarning: YF.download() has changed argument auto_adjust default to True\n",
            "  data = yf.download(TICKERS, start=START_DATE)\n",
            "[*********************100%***********************]  4 of 4 completed"
          ]
        },
        {
          "output_type": "stream",
          "name": "stdout",
          "text": [
            "✅ Success! Market data saved to 'crypto_price_and_volume_data_complete.csv'\n",
            "\n",
            "--- [STEP 2/7] Starting: Call Volume Simulation ---\n",
            "✅ Success! Simulated call volume data saved to 'final_simulated_data_with_volatility.csv'\n",
            "\n",
            "--- [STEP 3/7] Starting: Advanced Feature Engineering ---\n",
            "✅ Success! Advanced training file saved as 'advanced_feature_training_data.csv'\n",
            "\n",
            "--- [STEP 4/7] Starting: Automated Model Tuning (this may take several minutes) ---\n",
            "Fitting 5 folds for each of 50 candidates, totalling 250 fits\n"
          ]
        },
        {
          "output_type": "stream",
          "name": "stderr",
          "text": [
            "\n"
          ]
        },
        {
          "output_type": "stream",
          "name": "stdout",
          "text": [
            "\n",
            "--- Tuning Complete ---\n",
            "✅ Best MAE Score found: 103798.44\n",
            "✅ Best Hyperparameters found: {'subsample': 1.0, 'n_estimators': 300, 'max_depth': 5, 'learning_rate': 0.01, 'colsample_bytree': 0.7}\n",
            "\n",
            "--- [STEP 5/7] Starting: Final Model Training ---\n",
            "✅ Success! Final model trained on all available data.\n",
            "\n",
            "--- [STEP 6/7] Starting: Saving the Final Model ---\n",
            "✅ Success! Final model has been saved as 'final_advanced_xgboost_model.json'.\n",
            "\n",
            "--- [STEP 7/7] Starting: Making a Live Forecast ---\n"
          ]
        },
        {
          "output_type": "stream",
          "name": "stderr",
          "text": [
            "/tmp/ipython-input-3488176207.py:190: FutureWarning: YF.download() has changed argument auto_adjust default to True\n",
            "  hist_data = yf.download(TICKERS, period='35d', progress=False)\n",
            "/tmp/ipython-input-3488176207.py:191: FutureWarning: YF.download() has changed argument auto_adjust default to True\n",
            "  latest_data = yf.download(TICKERS, start=latest_day, period='1d', progress=False)\n"
          ]
        },
        {
          "output_type": "stream",
          "name": "stdout",
          "text": [
            "\n",
            "--- Forecast Complete ---\n",
            "✅ Based on the latest market data for 2025-08-23, the model forecasts a call volume of: 435,261\n"
          ]
        },
        {
          "output_type": "stream",
          "name": "stderr",
          "text": [
            "/tmp/ipython-input-3488176207.py:200: FutureWarning: The default fill_method='pad' in Series.pct_change is deprecated and will be removed in a future version. Either fill in any non-leading NA values prior to calling pct_change or specify 'fill_method=None' to not fill NA values.\n",
            "  market_df[f'{crypto}_price_pct_change'] = market_df[f'{crypto}_price'].pct_change()\n",
            "/tmp/ipython-input-3488176207.py:200: FutureWarning: The default fill_method='pad' in Series.pct_change is deprecated and will be removed in a future version. Either fill in any non-leading NA values prior to calling pct_change or specify 'fill_method=None' to not fill NA values.\n",
            "  market_df[f'{crypto}_price_pct_change'] = market_df[f'{crypto}_price'].pct_change()\n",
            "/tmp/ipython-input-3488176207.py:200: FutureWarning: The default fill_method='pad' in Series.pct_change is deprecated and will be removed in a future version. Either fill in any non-leading NA values prior to calling pct_change or specify 'fill_method=None' to not fill NA values.\n",
            "  market_df[f'{crypto}_price_pct_change'] = market_df[f'{crypto}_price'].pct_change()\n"
          ]
        }
      ]
    }
  ]
}